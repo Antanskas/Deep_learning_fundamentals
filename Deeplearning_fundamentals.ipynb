{
  "nbformat": 4,
  "nbformat_minor": 0,
  "metadata": {
    "colab": {
      "name": "deeplearning_basics.ipynb",
      "version": "0.3.2",
      "provenance": [],
      "collapsed_sections": [
        "7_gUi2wFez46",
        "X_-4zmoHiPDi",
        "bVHXypH_KxXc",
        "_5fJsQTGothY",
        "mwxnj7PZyyPi",
        "uSqvBPGC6-ea",
        "W6l4AJWIK6fj",
        "Fr3Tw4SpMzfY",
        "IxKA2gz2R5oh",
        "mC6p6XpSoBEf",
        "KnrNjrwHphmf",
        "p37ps9keuaKa",
        "Q0ls2Q91v7bh",
        "RwmXjGl1xCso",
        "4iNN0qYnx1M6",
        "oRzEThzAysXu",
        "If-9pHWu0JIt",
        "PZWCxG3BC70H",
        "buPYz1bxQm5g",
        "fqo6o-bO7ZxQ",
        "Gu4OrLA47dNa"
      ]
    },
    "kernelspec": {
      "name": "python3",
      "display_name": "Python 3"
    },
    "accelerator": "GPU"
  },
  "cells": [
    {
      "cell_type": "markdown",
      "metadata": {
        "id": "7_gUi2wFez46",
        "colab_type": "text"
      },
      "source": [
        "# Imports"
      ]
    },
    {
      "cell_type": "code",
      "metadata": {
        "id": "lp28YLace4_k",
        "colab_type": "code",
        "outputId": "7c9ab8e0-caa0-4f92-c647-b17fec381da3",
        "colab": {
          "base_uri": "https://localhost:8080/",
          "height": 34
        }
      },
      "source": [
        "from google.colab import drive\n",
        "drive.mount('/content/drive')"
      ],
      "execution_count": 0,
      "outputs": [
        {
          "output_type": "stream",
          "text": [
            "Drive already mounted at /content/drive; to attempt to forcibly remount, call drive.mount(\"/content/drive\", force_remount=True).\n"
          ],
          "name": "stdout"
        }
      ]
    },
    {
      "cell_type": "code",
      "metadata": {
        "id": "8kH9leZMe-fp",
        "colab_type": "code",
        "outputId": "6265e5e1-2a1c-40c3-b7e0-f3cae94788c9",
        "colab": {
          "base_uri": "https://localhost:8080/",
          "height": 34
        }
      },
      "source": [
        "import numpy as np\n",
        "import pandas as pd\n",
        "import matplotlib.pyplot as plt\n",
        "import seaborn as sns\n",
        "from IPython.display import display\n",
        "\n",
        "working_path = \"/content/drive/My Drive/data_science_basics/deep_learning_dataset/Sign-language-digits-dataset/\"\n",
        "!dir \"/content/drive/My Drive/data_science_basics/deep_learning_dataset/Sign-language-digits-dataset/\"\n"
      ],
      "execution_count": 0,
      "outputs": [
        {
          "output_type": "stream",
          "text": [
            "comp_graph.jpg\tX.npy  Y.npy\n"
          ],
          "name": "stdout"
        }
      ]
    },
    {
      "cell_type": "markdown",
      "metadata": {
        "id": "X_-4zmoHiPDi",
        "colab_type": "text"
      },
      "source": [
        "# Data overview\n",
        "\n",
        "\n",
        "*   Sign language digits dataset\n",
        "*   2062 examples\n",
        "*   10 unique classes (from 0 to 9)\n",
        "*   We'll use 0 and 1 for simplicity\n",
        "*   In data, sign zero is between indexes 204 and 408. Number of zero sign is 205.\n",
        "*   Also sign one is between indexes 822 and 1027. Number of one sign is 206.  \n",
        "Therefore, we will use 205 samples from each classes(labels).\n",
        "\n"
      ]
    },
    {
      "cell_type": "code",
      "metadata": {
        "id": "DOSK7512ib3Z",
        "colab_type": "code",
        "outputId": "89c62396-5575-4a9a-e710-974648e91277",
        "colab": {
          "base_uri": "https://localhost:8080/",
          "height": 51
        }
      },
      "source": [
        "# loading numpy data type\n",
        "X_all = np.load(working_path + 'X.npy')\n",
        "Y_all = np.load(working_path + 'Y.npy')\n",
        "print('X_all shape: ', X_all.shape)\n",
        "print('Y_all shape: ', Y_all.shape)"
      ],
      "execution_count": 0,
      "outputs": [
        {
          "output_type": "stream",
          "text": [
            "X_all shape:  (2062, 64, 64)\n",
            "Y_all shape:  (2062, 10)\n"
          ],
          "name": "stdout"
        }
      ]
    },
    {
      "cell_type": "code",
      "metadata": {
        "id": "cxMWPOfAehNb",
        "colab_type": "code",
        "outputId": "ee834e55-05ef-402c-f4e3-e4ce53608234",
        "colab": {
          "base_uri": "https://localhost:8080/",
          "height": 51
        }
      },
      "source": [
        "# creating dataset with zeros and ones only\n",
        "X = np.concatenate((X_all[204:409], X_all[822:1027]), axis=0)\n",
        "Y = np.concatenate((np.zeros(205), np.ones(205)), axis=0).reshape(X.shape[0],1)\n",
        "print('X shape: ', X.shape)\n",
        "print('Y shape: ', Y.shape)"
      ],
      "execution_count": 0,
      "outputs": [
        {
          "output_type": "stream",
          "text": [
            "X shape:  (410, 64, 64)\n",
            "Y shape:  (410, 1)\n"
          ],
          "name": "stdout"
        }
      ]
    },
    {
      "cell_type": "code",
      "metadata": {
        "id": "79Oghtc3l5-H",
        "colab_type": "code",
        "outputId": "4fbe2df1-f6cd-4c06-ded1-8847fc070d44",
        "colab": {
          "base_uri": "https://localhost:8080/",
          "height": 51
        }
      },
      "source": [
        "# splitting data\n",
        "from sklearn.model_selection import train_test_split\n",
        "\n",
        "x_train, x_test, y_train, y_test = train_test_split(X, Y, test_size=0.15, random_state=42)\n",
        "num_train_ex = x_train.shape[0]\n",
        "num_test_ex = x_test.shape[0]\n",
        "\n",
        "print('Number of training examples: ', num_train_ex)\n",
        "print('Number of testing examples: ', num_test_ex)"
      ],
      "execution_count": 0,
      "outputs": [
        {
          "output_type": "stream",
          "text": [
            "Number of training examples:  348\n",
            "Number of testing examples:  62\n"
          ],
          "name": "stdout"
        }
      ]
    },
    {
      "cell_type": "markdown",
      "metadata": {
        "id": "RNrntYbFmrHn",
        "colab_type": "text"
      },
      "source": [
        "Now we have 3D input data. In order to feed this data to our deep learning models we need to make it 2D  \n",
        "so we need to flatten this data."
      ]
    },
    {
      "cell_type": "code",
      "metadata": {
        "id": "Gp4Dyu2Im4ZV",
        "colab_type": "code",
        "outputId": "48de5914-f603-48f4-8ad9-beec0ae9e6d9",
        "colab": {
          "base_uri": "https://localhost:8080/",
          "height": 51
        }
      },
      "source": [
        "x_train_flatten = x_train.reshape(x_train.shape[0], x_train.shape[1]*x_train.shape[2])\n",
        "x_test_flatten = x_test.reshape(x_test.shape[0], x_test.shape[1]*x_test.shape[2])\n",
        "print('x_train_flatten shape is: ', x_train_flatten.shape)\n",
        "print('x_test_flatten shape is: ', x_test_flatten.shape)"
      ],
      "execution_count": 0,
      "outputs": [
        {
          "output_type": "stream",
          "text": [
            "x_train_flatten shape is:  (348, 4096)\n",
            "x_test_flatten shape is:  (62, 4096)\n"
          ],
          "name": "stdout"
        }
      ]
    },
    {
      "cell_type": "markdown",
      "metadata": {
        "id": "h48glrtEnvMg",
        "colab_type": "text"
      },
      "source": [
        "It is common to feed data into deep learning models that lines have features and each columns is a new example.  \n",
        "In this case we need to transpose data"
      ]
    },
    {
      "cell_type": "code",
      "metadata": {
        "id": "6XqBrr-9n4ll",
        "colab_type": "code",
        "outputId": "332dcb2b-b69f-40d1-f6bc-ba3e1cb5496e",
        "colab": {
          "base_uri": "https://localhost:8080/",
          "height": 85
        }
      },
      "source": [
        "X_train = x_train_flatten.T\n",
        "X_test = x_test_flatten.T\n",
        "Y_train = y_train.T\n",
        "Y_test = y_test.T\n",
        "print('X_train shape: ', X_train.shape)\n",
        "print('X_test shape: ', X_test.shape)\n",
        "print('Y_train shape: ', Y_train.shape)\n",
        "print('Y_test shape: ', Y_test.shape)"
      ],
      "execution_count": 0,
      "outputs": [
        {
          "output_type": "stream",
          "text": [
            "X_train shape:  (4096, 348)\n",
            "X_test shape:  (4096, 62)\n",
            "Y_train shape:  (1, 348)\n",
            "Y_test shape:  (1, 62)\n"
          ],
          "name": "stdout"
        }
      ]
    },
    {
      "cell_type": "markdown",
      "metadata": {
        "id": "bVHXypH_KxXc",
        "colab_type": "text"
      },
      "source": [
        "# Logistic regression"
      ]
    },
    {
      "cell_type": "markdown",
      "metadata": {
        "id": "_5fJsQTGothY",
        "colab_type": "text"
      },
      "source": [
        "## Forward propagation\n",
        "\n",
        "The all steps from pixels to cost is called forward propagation:\n",
        "*   z = (w.T)x + b => in this equation we know x that is pixel array, we know w (weights) and b (bias) so the rest is calculation. (T is transpose)\n",
        "*   Then we put z into sigmoid function that returns y_head(probability). When your mind is confused go and look at computation graph. Also equation of sigmoid function is in computation graph.\n",
        "*   Then we calculate loss(error) function.\n",
        "*   Cost function is summation of all loss(error).\n",
        "*   Lets start with z and the write sigmoid definition(method) that takes z as input parameter and returns y_head(probability)\n",
        "\n",
        "\n",
        "\n",
        "\n"
      ]
    },
    {
      "cell_type": "code",
      "metadata": {
        "id": "t50-PSZkw57k",
        "colab_type": "code",
        "colab": {}
      },
      "source": [
        "# calculation of z\n",
        "#z = np.dot(w.T,x_train)+b\n",
        "\n",
        "def sigmoid(z):\n",
        "  return 1/(1+np.exp(-z))"
      ],
      "execution_count": 0,
      "outputs": []
    },
    {
      "cell_type": "code",
      "metadata": {
        "id": "U-M9Skitw30q",
        "colab_type": "code",
        "outputId": "d112af2f-0f1b-4e10-c29f-a9f1bd516cb5",
        "colab": {
          "base_uri": "https://localhost:8080/",
          "height": 34
        }
      },
      "source": [
        "y_head = sigmoid(0)\n",
        "y_head"
      ],
      "execution_count": 0,
      "outputs": [
        {
          "output_type": "execute_result",
          "data": {
            "text/plain": [
              "0.5"
            ]
          },
          "metadata": {
            "tags": []
          },
          "execution_count": 10
        }
      ]
    },
    {
      "cell_type": "markdown",
      "metadata": {
        "id": "mwxnj7PZyyPi",
        "colab_type": "text"
      },
      "source": [
        "## Loss function\n",
        "Lets assume that we do have weights. Firstly we multiply our weights with our features(pixels) and  \n",
        "add bias - we get z. Then we put z into sigmoid f-tion and get probability lets say 0.9. It means  \n",
        "that our image is sign 1 with probability==0.9. That's fine. But how do we know that it is correct?  \n",
        "How do we know that it guesses correctly? Thats why we need loss functions. \n",
        "\n",
        "*   Matematical expression of log loss(error) is:  \n",
        "    -(1-y) * log(1-y_head) - y * log(y_head)\n",
        "*   It simply says that if model will make wrong prediction, then loss function will have big value - big error\n",
        "    * Example: our real image is sign one and its label is 1 (y = 1),  \n",
        "      then we make prediction y_head = 1. When we put y and y_head into  \n",
        "      loss(error) equation the result is 0. We make correct prediction  \n",
        "      therefore our loss is 0. However, if we make wrong prediction like y_head = 0, loss(error) is infinity.   \n",
        "*   After all - cost is summation of all losses. Each image/example creates his own loss and  \n",
        "than all individual losses sums and creates cost - overall error.\n",
        "*   Lets implement forward propagation\n",
        "\n",
        "\n",
        "\n"
      ]
    },
    {
      "cell_type": "code",
      "metadata": {
        "id": "RQOeoPLRwsfl",
        "colab_type": "code",
        "colab": {}
      },
      "source": [
        "# returns weights and bias\n",
        "def initialize_weights_bias(dimension, w_value, b_value):\n",
        "  w = np.full((dimension, 1), w_value)\n",
        "  b = b_value\n",
        "  return w, b\n",
        "\n",
        "def sigmoid(z):\n",
        "  return 1/(1+np.exp(-z))\n",
        "\n",
        "# returns individual loss\n",
        "def loss(y, y_head):\n",
        "  return -(1-y)*np.log(1-y_head) - np.log(y_head)\n",
        "\n",
        "# returns cost, y_head\n",
        "def forward_prop(w, b, X_train, Y_train):\n",
        "  z = np.dot(w.T, X_train) + b\n",
        "  y_head = sigmoid(z)\n",
        "  error = loss(Y_train, y_head)\n",
        "  cost = np.sum(error)/X_train.shape[1]\n",
        "  return cost, y_head"
      ],
      "execution_count": 0,
      "outputs": []
    },
    {
      "cell_type": "markdown",
      "metadata": {
        "id": "uSqvBPGC6-ea",
        "colab_type": "text"
      },
      "source": [
        "## Optimization Algorithm with Gradient Descent\n",
        "\n",
        "*   Having our cost we can intuitively feel that we want it to be as small as possible  \n",
        "because it has low value when we are guessing correctly and high when missing\n",
        "*   Lets think from beginning: we initialize w and b, multiplies with features and do  \n",
        "a sigmoid operation. After that we calculate cost. It means that our cost depends basically  \n",
        "on weights we have. So we want these weights to be that cost to be low - we need to update these  \n",
        "parameters. We can achieve that with gradient descent technique.\n",
        "*   Gradient descent basically is small updates on weight to minimaze cost value.  \n",
        "Cost function has minimum value(could be bowl shape). We update weights that cost to reach minimum (bowl bottom).  \n",
        "Update looks like: w = w-step. step basically is the slope of the function at current cost value point.  \n",
        "This update procedure repeats till minimum value is reached.\n",
        "*   Everything looks like good but how we find slope?  \n",
        "If you remember from high school or university, in order to find slope of function(cost function)  \n",
        "at given point(at given weight) we take derivative of function at given point.  \n",
        "Also you can ask that okey well we find slope but how it knows where it go.  \n",
        "You can say that it can go more higher cost values instead of going minimum point.  \n",
        "The asnwer is that slope(derivative) gives both step and direction of step because if the sign of derivative.  \n",
        "*   Update formula is: w := w - alpha*(dJ(w,b))\n",
        "*   Learning rate alpha is like a speed. Imagine we want to go from Paris (expensive) to Madris(cheap).  \n",
        "We may choose to go by foots but its too slow. We still can reach Madrid but it would take too long time.  \n",
        "In other hand we can take a car and drive very fast, but in this way we may crash and never reach Madrid.  \n",
        "Similarly is with learning rate. We need to choose alpha carefully to be not too small and not too large.\n"
      ]
    },
    {
      "cell_type": "markdown",
      "metadata": {
        "id": "vZ0zMxlcv0P_",
        "colab_type": "text"
      },
      "source": [
        "Lets implement backward prop function!"
      ]
    },
    {
      "cell_type": "code",
      "metadata": {
        "id": "PkDa_kZHv3fc",
        "colab_type": "code",
        "colab": {}
      },
      "source": [
        "# returns gradients\n",
        "def backward_prop(X_train, y_head, Y_train):\n",
        "  dw = np.dot(1/X_train.shape[1], np.dot(X_train, (y_head - Y_train).T))\n",
        "  db = np.dot(1/X_train.shape[1], np.sum(y_head - Y_train))\n",
        "  gradients = {'weights_gradients': dw, 'bias_gradients': db}\n",
        "  return gradients\n",
        "\n",
        "\n",
        "# returns cost_list, updated_parameters\n",
        "def update(w, b, X_train, Y_train, learning_rate, number_iter):\n",
        "  cost_list1 = []\n",
        "  cost_list2 = []\n",
        "  index = []\n",
        "  for i in range(number_iter):\n",
        "    cost, y_head = forward_prop(w, b, X_train, Y_train)\n",
        "    gradients = backward_prop(X_train, y_head, Y_train)\n",
        "    w = w - learning_rate*gradients['weights_gradients']\n",
        "    b = b - learning_rate*gradients['bias_gradients']\n",
        "    cost_list1.append(cost)\n",
        "    if i % 10 ==0:\n",
        "      index.append(i)\n",
        "      cost_list2.append(cost)\n",
        "      print('Cost after ', i, ' iterations is ', cost)    \n",
        "  parameters = {'weights': w, 'bias': b}\n",
        "  return cost_list1, cost_list2, parameters\n",
        "\n",
        "\n",
        "#plots learning_curve\n",
        "def plot_learning_curve(cost_list1, cost_list2):\n",
        "  plt.plot(np.arange(len(cost_list2))*10, cost_list2, c='red', linewidth = 2, label='Cost values iterating x10')\n",
        "  plt.plot(np.arange(len(cost_list1)), cost_list1, c='blue', linewidth=0.5, label='All cost values')\n",
        "  plt.xticks(index,rotation='vertical')\n",
        "  plt.xlabel(\"Number of Iterarion\")\n",
        "  plt.ylabel(\"Cost\")\n",
        "  plt.legend()\n",
        "  plt.title('Learning curve')\n",
        "  plt.show()"
      ],
      "execution_count": 0,
      "outputs": []
    },
    {
      "cell_type": "code",
      "metadata": {
        "id": "NoiEc2yUtZgE",
        "colab_type": "code",
        "outputId": "de6dfae9-7e13-4ba9-ff50-c44210eaf54c",
        "colab": {
          "base_uri": "https://localhost:8080/",
          "height": 576
        }
      },
      "source": [
        "w, b = initialize_weights_bias(X_train.shape[0], 0.01, 0)\n",
        "cost_list1, cost_list2, parameters= update(w, b, X_train, Y_train, learning_rate=0.01, number_iter=150)\n",
        "display(len(cost_list1))\n",
        "plot_learning_curve(cost_list1, cost_list2)\n"
      ],
      "execution_count": 0,
      "outputs": [
        {
          "output_type": "stream",
          "text": [
            "Cost after  0  iterations is  14.014222401930539\n",
            "Cost after  10  iterations is  2.5477624724194525\n",
            "Cost after  20  iterations is  2.580979548793563\n",
            "Cost after  30  iterations is  2.4027511391861296\n",
            "Cost after  40  iterations is  2.19326438809872\n",
            "Cost after  50  iterations is  1.9831679701516463\n",
            "Cost after  60  iterations is  1.781083276072912\n",
            "Cost after  70  iterations is  1.5839424970640983\n",
            "Cost after  80  iterations is  1.3864280591730223\n",
            "Cost after  90  iterations is  1.1937901011907066\n",
            "Cost after  100  iterations is  1.0352693802845279\n",
            "Cost after  110  iterations is  0.9989036680639027\n",
            "Cost after  120  iterations is  1.1980296338333403\n",
            "Cost after  130  iterations is  1.4202798643989343\n",
            "Cost after  140  iterations is  1.5046182300909399\n"
          ],
          "name": "stdout"
        },
        {
          "output_type": "display_data",
          "data": {
            "text/plain": [
              "150"
            ]
          },
          "metadata": {
            "tags": []
          }
        },
        {
          "output_type": "display_data",
          "data": {
            "image/png": "[encoded data removed]",
            "text/plain": [
              "<Figure size 432x288 with 1 Axes>"
            ]
          },
          "metadata": {
            "tags": []
          }
        }
      ]
    },
    {
      "cell_type": "markdown",
      "metadata": {
        "id": "m_UTwIYJ_P2O",
        "colab_type": "text"
      },
      "source": [
        "Up to this point with **def update()** we get parameters w and b.  \n",
        "We can use them on test data to make predictions. Lets do this!  \n",
        "Important!  \n",
        "Do not forget that sigmoid function gives us probabilistic answers so  \n",
        "for to predict either it's a class1 or class0 we need to use a threshold value -  \n",
        "in this way 0.5. If prediction greater than 0.5 than assign it to class1 otherwise to class0.\n"
      ]
    },
    {
      "cell_type": "code",
      "metadata": {
        "id": "ikYpy89e_gKy",
        "colab_type": "code",
        "colab": {}
      },
      "source": [
        "def predict(parameters, X):\n",
        "  w, b = parameters['weights'], parameters['bias']\n",
        "  z = np.dot(w.T, X) + b\n",
        "  y = sigmoid(z)\n",
        "  y_pred = np.zeros((1, X.shape[1]))\n",
        "  for i in range(y.shape[1]):\n",
        "    if y[0, i] >= 0.5:\n",
        "      y_pred[0, i] = 1\n",
        "    else:\n",
        "      y_pred[0, i] = 0\n",
        "  return y_pred"
      ],
      "execution_count": 0,
      "outputs": []
    },
    {
      "cell_type": "markdown",
      "metadata": {
        "id": "BbHysN9_HCFw",
        "colab_type": "text"
      },
      "source": [
        "Lets build one function for full training and prediction."
      ]
    },
    {
      "cell_type": "code",
      "metadata": {
        "id": "p9gV6XyLtHwI",
        "colab_type": "code",
        "colab": {}
      },
      "source": [
        "def logistic_regression(X_train, Y_train, X_test, Y_test, learning_rate, num_iteration):\n",
        "  w, b = initialize_weights_bias(X_train.shape[0], 0.01, 0)\n",
        "  cost_list1, cost_list2, parameters = update(w, b, X_train, Y_train, learning_rate, num_iteration)\n",
        "  y_pred_train = predict(parameters, X_train)\n",
        "  y_pred_test = predict(parameters, X_test)\n",
        "  \n",
        "  plot_learning_curve(cost_list1, cost_list2)\n",
        "  \n",
        "  print('Training accuracy: ',(100 - np.mean(np.abs(Y_train - y_pred_train))*100), '%')\n",
        "  print('Testing accuracy: ', (100 - np.mean(np.abs(Y_test - y_pred_test))*100), '%')"
      ],
      "execution_count": 0,
      "outputs": []
    },
    {
      "cell_type": "code",
      "metadata": {
        "id": "ZcYrBlaotDaU",
        "colab_type": "code",
        "outputId": "88723582-de48-4677-d950-8b5d209d6266",
        "colab": {
          "base_uri": "https://localhost:8080/",
          "height": 593
        }
      },
      "source": [
        "logistic_regression(X_train, Y_train, X_test, Y_test, learning_rate=0.01, num_iteration=150)"
      ],
      "execution_count": 0,
      "outputs": [
        {
          "output_type": "stream",
          "text": [
            "Cost after  0  iterations is  14.014222401930539\n",
            "Cost after  10  iterations is  2.5477624724194525\n",
            "Cost after  20  iterations is  2.580979548793563\n",
            "Cost after  30  iterations is  2.4027511391861296\n",
            "Cost after  40  iterations is  2.19326438809872\n",
            "Cost after  50  iterations is  1.9831679701516463\n",
            "Cost after  60  iterations is  1.781083276072912\n",
            "Cost after  70  iterations is  1.5839424970640983\n",
            "Cost after  80  iterations is  1.3864280591730223\n",
            "Cost after  90  iterations is  1.1937901011907066\n",
            "Cost after  100  iterations is  1.0352693802845279\n",
            "Cost after  110  iterations is  0.9989036680639027\n",
            "Cost after  120  iterations is  1.1980296338333403\n",
            "Cost after  130  iterations is  1.4202798643989343\n",
            "Cost after  140  iterations is  1.5046182300909399\n"
          ],
          "name": "stdout"
        },
        {
          "output_type": "display_data",
          "data": {
            "image/png": "[encoded data removed]",
            "text/plain": [
              "<Figure size 432x288 with 1 Axes>"
            ]
          },
          "metadata": {
            "tags": []
          }
        },
        {
          "output_type": "stream",
          "text": [
            "Training accuracy:  92.816091954023 %\n",
            "Testing accuracy:  93.54838709677419 %\n"
          ],
          "name": "stdout"
        }
      ]
    },
    {
      "cell_type": "markdown",
      "metadata": {
        "id": "W6l4AJWIK6fj",
        "colab_type": "text"
      },
      "source": [
        "## Logistic regression with sklearn"
      ]
    },
    {
      "cell_type": "code",
      "metadata": {
        "id": "PDWp7DUMK9pA",
        "colab_type": "code",
        "outputId": "cdf1d2bf-11e5-4f34-c296-2aaac865a4ec",
        "colab": {
          "base_uri": "https://localhost:8080/",
          "height": 139
        }
      },
      "source": [
        "from sklearn.linear_model import LogisticRegression\n",
        "log_regr = LogisticRegression(penalty='l2', random_state=42, max_iter=150)\n",
        "log_regr.fit(X_train.T, Y_train.T)\n",
        "train_score = log_regr.score(X_train.T, Y_train.T)\n",
        "test_score = log_regr.score(X_test.T, Y_test.T)\n",
        "print('Training score: ', train_score)\n",
        "print('Testing score: ', test_score)"
      ],
      "execution_count": 0,
      "outputs": [
        {
          "output_type": "stream",
          "text": [
            "/usr/local/lib/python3.6/dist-packages/sklearn/linear_model/logistic.py:432: FutureWarning: Default solver will be changed to 'lbfgs' in 0.22. Specify a solver to silence this warning.\n",
            "  FutureWarning)\n",
            "/usr/local/lib/python3.6/dist-packages/sklearn/utils/validation.py:724: DataConversionWarning: A column-vector y was passed when a 1d array was expected. Please change the shape of y to (n_samples, ), for example using ravel().\n",
            "  y = column_or_1d(y, warn=True)\n"
          ],
          "name": "stderr"
        },
        {
          "output_type": "stream",
          "text": [
            "Training score:  1.0\n",
            "Testing score:  0.967741935483871\n"
          ],
          "name": "stdout"
        }
      ]
    },
    {
      "cell_type": "markdown",
      "metadata": {
        "id": "Fr3Tw4SpMzfY",
        "colab_type": "text"
      },
      "source": [
        "## Logistic regression for 3 classes with sklearn"
      ]
    },
    {
      "cell_type": "code",
      "metadata": {
        "id": "9sAuzpO8M3YX",
        "colab_type": "code",
        "outputId": "47697c25-de9f-4ee1-e748-fb24f364e561",
        "colab": {
          "base_uri": "https://localhost:8080/",
          "height": 153
        }
      },
      "source": [
        "from sklearn.model_selection import train_test_split\n",
        "\n",
        "X_all = np.load(working_path + 'X.npy')\n",
        "Y_all = np.load(working_path + 'Y.npy')\n",
        "print('X_all shape: ', X_all.shape)\n",
        "print('Y_all shape: ', Y_all.shape)\n",
        "\n",
        "X_3_classes = np.concatenate((X_all[204:409], X_all[822:1027], X_all[0:205]), axis=0)\n",
        "Y_3_classes = np.concatenate((np.zeros(205), np.ones(205), np.full(205, 2)), axis=0).reshape(X_3_classes.shape[0],1)\n",
        "\n",
        "print('X_3_classes shape: ', X_3_classes.shape)\n",
        "print('Y_3_classes shape: ', Y_3_classes.shape)\n",
        "\n",
        "# splitting data\n",
        "x_train, x_test, y_train, y_test = train_test_split(X_3_classes, Y_3_classes, test_size=0.15, random_state=42)\n",
        "num_train_ex = x_train.shape[0]\n",
        "num_test_ex = x_test.shape[0]\n",
        "\n",
        "print('Number of training examples: ', num_train_ex)\n",
        "print('Number of testing examples: ', num_test_ex)\n",
        "\n",
        "x_train = x_train.reshape(x_train.shape[0], x_train.shape[1]*x_train.shape[2])\n",
        "x_test = x_test.reshape(x_test.shape[0], x_test.shape[1]*x_test.shape[2])\n",
        "print('x_train shape is: ', x_train_flatten.shape)\n",
        "print('x_test shape is: ', x_test_flatten.shape)"
      ],
      "execution_count": 0,
      "outputs": [
        {
          "output_type": "stream",
          "text": [
            "X_all shape:  (2062, 64, 64)\n",
            "Y_all shape:  (2062, 10)\n",
            "X_3_classes shape:  (615, 64, 64)\n",
            "Y_3_classes shape:  (615, 1)\n",
            "Number of training examples:  522\n",
            "Number of testing examples:  93\n",
            "x_train shape is:  (522, 4096)\n",
            "x_test shape is:  (93, 4096)\n"
          ],
          "name": "stdout"
        }
      ]
    },
    {
      "cell_type": "code",
      "metadata": {
        "id": "thn1tcvusxE3",
        "colab_type": "code",
        "outputId": "f90eb960-cf5f-4417-ad21-b818d2c0def2",
        "colab": {
          "base_uri": "https://localhost:8080/",
          "height": 241
        }
      },
      "source": [
        "from sklearn.linear_model import LogisticRegression\n",
        "\n",
        "log_regr = LogisticRegression(penalty='l2', random_state=42, max_iter=150, solver='newton-cg')\n",
        "log_regr.fit(x_train, y_train)\n",
        "train_score = log_regr.score(x_train, y_train)\n",
        "test_score = log_regr.score(x_test, y_test)"
      ],
      "execution_count": 0,
      "outputs": [
        {
          "output_type": "stream",
          "text": [
            "/usr/local/lib/python3.6/dist-packages/sklearn/utils/validation.py:724: DataConversionWarning: A column-vector y was passed when a 1d array was expected. Please change the shape of y to (n_samples, ), for example using ravel().\n",
            "  y = column_or_1d(y, warn=True)\n",
            "/usr/local/lib/python3.6/dist-packages/sklearn/linear_model/logistic.py:469: FutureWarning: Default multi_class will be changed to 'auto' in 0.22. Specify the multi_class option to silence this warning.\n",
            "  \"this warning.\", FutureWarning)\n",
            "/usr/local/lib/python3.6/dist-packages/scipy/optimize/linesearch.py:314: LineSearchWarning: The line search algorithm did not converge\n",
            "  warn('The line search algorithm did not converge', LineSearchWarning)\n",
            "/usr/local/lib/python3.6/dist-packages/sklearn/utils/optimize.py:195: UserWarning: Line Search failed\n",
            "  warnings.warn('Line Search failed')\n",
            "/usr/local/lib/python3.6/dist-packages/scipy/optimize/linesearch.py:314: LineSearchWarning: The line search algorithm did not converge\n",
            "  warn('The line search algorithm did not converge', LineSearchWarning)\n",
            "/usr/local/lib/python3.6/dist-packages/sklearn/utils/optimize.py:195: UserWarning: Line Search failed\n",
            "  warnings.warn('Line Search failed')\n"
          ],
          "name": "stderr"
        }
      ]
    },
    {
      "cell_type": "code",
      "metadata": {
        "id": "ViVHgfK4sqqN",
        "colab_type": "code",
        "outputId": "57582fc2-8083-4eea-8e2d-24980b1431b4",
        "colab": {
          "base_uri": "https://localhost:8080/",
          "height": 51
        }
      },
      "source": [
        "print('Training score with 3 classes: ', train_score)\n",
        "print('Testing score with 3 classes: ', test_score)"
      ],
      "execution_count": 0,
      "outputs": [
        {
          "output_type": "stream",
          "text": [
            "Training score with 3 classes:  0.9980842911877394\n",
            "Testing score with 3 classes:  0.978494623655914\n"
          ],
          "name": "stdout"
        }
      ]
    },
    {
      "cell_type": "markdown",
      "metadata": {
        "id": "IxKA2gz2R5oh",
        "colab_type": "text"
      },
      "source": [
        "# Deep learning\n",
        "\n",
        "*   It is also called Artificial neural networks\n",
        "*   It is simply logistic regressions repeated at least 2 times.\n",
        "*   In logistic regression there are only input and output layers where   \n",
        "in Neural networks there is also at least one hidden layer.\n",
        "*   How deep neural network should be to be called deep neural network?  \n",
        "It is a relative question. Many years ago several layers was deep, now, hundreds and even thousands layers are used.\n",
        "*   Why does it called gidden layers? Because it does not sees inputs. They sees just layer before him output.\n",
        "*   Saying 2 layer NN means that it has input layer, one hidden layer in output layer. It means that input layer doesnt count.\n",
        "*   Number of nodes in NN layer can vary, it is also one of the hyperparameters we need to choose.\n",
        "*   For hidden layers its more commont to choose tanh() activation function instead of sigmoid simply because  \n",
        "it is zero centered(mean value is at zero point) and also tanh() is more inlinearity which helps learning better.\n",
        "\n",
        "\n"
      ]
    },
    {
      "cell_type": "markdown",
      "metadata": {
        "id": "mC6p6XpSoBEf",
        "colab_type": "text"
      },
      "source": [
        "## 2 layer neural network\n",
        "\n",
        "* Size of layers and initializing parameters weights and bias\n",
        "* Forward propagation\n",
        "* Loss function and Cost function\n",
        "* Backward propagation\n",
        "* Update Parameters\n",
        "* Prediction with learnt parameters weight and bias\n",
        "* Create Model\n",
        "\n"
      ]
    },
    {
      "cell_type": "markdown",
      "metadata": {
        "id": "KnrNjrwHphmf",
        "colab_type": "text"
      },
      "source": [
        "### Size of layers and initializing parameters weights and bias\n",
        "* Previously we initialized all weights to be 0.01. This time we'll initialize  \n",
        "it randomly. It is a better idea when using NN otherwise all nodes of hidden layers  \n",
        "will do the same performance - generate the same outputs. Also initial weights should  \n",
        "be small values. If it will be to small or too big (check how tanh() works) our slope/gradients  \n",
        "will be small and training would be really small as well.\n",
        "* Bias can be zero initialized."
      ]
    },
    {
      "cell_type": "code",
      "metadata": {
        "id": "5DK4pkZ8rTRw",
        "colab_type": "code",
        "colab": {}
      },
      "source": [
        "def initialize_weights_and_layers_size(X_train, Y_train):\n",
        "  parameters = {'weight1': np.random.randn(3, X_train.shape[0])*0.01,\n",
        "               'bias1': np.zeros((3,1)),\n",
        "               'weight2': np.random.randn(Y_train.shape[0], 3)*0.01,\n",
        "               'bias2': np.zeros((Y_train.shape[0],1))}\n",
        "  return parameters"
      ],
      "execution_count": 0,
      "outputs": []
    },
    {
      "cell_type": "markdown",
      "metadata": {
        "id": "p37ps9keuaKa",
        "colab_type": "text"
      },
      "source": [
        "### Forward propagation\n",
        "Forward propagation is almost the same like in simple logistic regression.  \n",
        "The difference is that we need to repeat it two times and also we have tanh()."
      ]
    },
    {
      "cell_type": "code",
      "metadata": {
        "id": "GH3j_iU0ur6s",
        "colab_type": "code",
        "colab": {}
      },
      "source": [
        "def forward_prop_NN(X, parameters):\n",
        "  W1 = parameters['weight1']\n",
        "  b1 = parameters['bias1']\n",
        "  W2 = parameters['weight2']\n",
        "  b2 = parameters['bias2']\n",
        "  \n",
        "  Z1 = np.dot(W1, X) + b1\n",
        "  A1 = np.tanh(Z1)\n",
        "  Z2 = np.dot(W2, A1) + b2\n",
        "  A2 = sigmoid(Z2)\n",
        "  \n",
        "  cache = {'Z1': Z1,\n",
        "           'A1': A1,\n",
        "           'Z2': Z2,\n",
        "           'A2': A2}\n",
        "  return cache"
      ],
      "execution_count": 0,
      "outputs": []
    },
    {
      "cell_type": "markdown",
      "metadata": {
        "id": "Q0ls2Q91v7bh",
        "colab_type": "text"
      },
      "source": [
        "### Loss and cost functions\n",
        "* Loss and cost functions are same with logistic regression\n",
        "* Cross entropy function\n",
        "\n",
        "J = -SUM(y*ln(y_head))"
      ]
    },
    {
      "cell_type": "code",
      "metadata": {
        "id": "dt4TmBVSpnE3",
        "colab_type": "code",
        "colab": {}
      },
      "source": [
        "def cost_NN(Y, cache):\n",
        "  A2 = cache['A2']\n",
        "  cost = -np.sum(Y*np.log(A2))/Y.shape[1]\n",
        "  return cost"
      ],
      "execution_count": 0,
      "outputs": []
    },
    {
      "cell_type": "markdown",
      "metadata": {
        "id": "RwmXjGl1xCso",
        "colab_type": "text"
      },
      "source": [
        "### Backward propagation\n",
        "\n",
        "*   Logic is the same as simple logistic regression\n",
        "*   To find gradients we need to find derivatives of cost function with respect of each parameter\n",
        "\n"
      ]
    },
    {
      "cell_type": "code",
      "metadata": {
        "id": "r9LK6ogVxVw9",
        "colab_type": "code",
        "colab": {}
      },
      "source": [
        "def backprop_NN(parameters, cache, X, Y):\n",
        "  dZ2 = cache[\"A2\"]-Y\n",
        "  dW2 = np.dot(dZ2,cache[\"A1\"].T)/X.shape[1]\n",
        "  db2 = np.sum(dZ2,axis =1,keepdims=True)/X.shape[1]\n",
        "  dZ1 = np.dot(parameters[\"weight2\"].T,dZ2)*(1 - np.power(cache[\"A1\"], 2))\n",
        "  dW1 = np.dot(dZ1,X.T)/X.shape[1]\n",
        "  db1 = np.sum(dZ1,axis =1,keepdims=True)/X.shape[1]\n",
        "  grads = {\"dweight1\": dW1,\n",
        "             \"dbias1\": db1,\n",
        "             \"dweight2\": dW2,\n",
        "             \"dbias2\": db2}\n",
        "  return grads"
      ],
      "execution_count": 0,
      "outputs": []
    },
    {
      "cell_type": "markdown",
      "metadata": {
        "id": "4iNN0qYnx1M6",
        "colab_type": "text"
      },
      "source": [
        "### Update "
      ]
    },
    {
      "cell_type": "code",
      "metadata": {
        "id": "FGUxgRzgx87S",
        "colab_type": "code",
        "colab": {}
      },
      "source": [
        "def update_NN(parameters, grads, learning_rate):\n",
        "  parameters = {'weight1': parameters['weight1'] - learning_rate*grads['dweight1'],\n",
        "                'bias1': parameters['bias1'] - learning_rate*grads['dbias1'],\n",
        "                'weight2': parameters['weight2'] - learning_rate*grads['dweight2'],\n",
        "                'bias2': parameters['bias2'] - learning_rate*grads['dbias2']}\n",
        "  return parameters"
      ],
      "execution_count": 0,
      "outputs": []
    },
    {
      "cell_type": "markdown",
      "metadata": {
        "id": "oRzEThzAysXu",
        "colab_type": "text"
      },
      "source": [
        "### Predicting with learned parameters (weights and biases)"
      ]
    },
    {
      "cell_type": "code",
      "metadata": {
        "id": "aqazjK0qoDpz",
        "colab_type": "code",
        "colab": {}
      },
      "source": [
        "def predict_NN(X, parameters):\n",
        "  cache = forward_prop_NN(X, parameters)\n",
        "  A2 = cache['A2']\n",
        "  Y_pred = np.zeros_like(A2)\n",
        "  for i in range(A2.shape[1]):\n",
        "    if A2[0,i] <= 0.5:\n",
        "      Y_pred[0,i] = 0\n",
        "    else:\n",
        "      Y_pred[0,i] = 1\n",
        "  return Y_pred"
      ],
      "execution_count": 0,
      "outputs": []
    },
    {
      "cell_type": "markdown",
      "metadata": {
        "id": "If-9pHWu0JIt",
        "colab_type": "text"
      },
      "source": [
        "### Create model"
      ]
    },
    {
      "cell_type": "code",
      "metadata": {
        "id": "3Fo5BRes0KwF",
        "colab_type": "code",
        "colab": {}
      },
      "source": [
        "def two_layer_NN(X_train, Y_train, X_test, Y_test, learning_rate, num_iter):\n",
        "  parameters = initialize_weights_and_layers_size(X_train, Y_train)\n",
        "  cost_list1 = []\n",
        "  cost_list2 = []\n",
        "  for i in range(0, num_iter):\n",
        "    cache = forward_prop_NN(X_train, parameters)\n",
        "    cost = cost_NN(Y_train, cache)\n",
        "    grads = backprop_NN(parameters, cache, X_train, Y_train)\n",
        "    parameters = update_NN(parameters, grads, learning_rate)\n",
        "    cost_list1.append(cost)\n",
        "    if i % 100 == 0:\n",
        "      cost_list2.append(cost)\n",
        "      print('Cost after ', i, ' iterations is ', cost)\n",
        "  return cost_list1, cost_list2, parameters  \n",
        "  \n",
        "def plot_learning_curve_NN(cost_list1, cost_list2):\n",
        "  plt.plot(np.arange(len(cost_list2))*100, cost_list2, c='red', linewidth = 2, label='Cost values')\n",
        "  plt.xticks(np.arange(len(cost_list2))*100, rotation='vertical')\n",
        "  plt.xlabel(\"Number of Iterarion\")\n",
        "  plt.ylabel(\"Cost\")\n",
        "  plt.grid()\n",
        "  plt.legend()\n",
        "  plt.title('Learning curve')\n",
        "  plt.show()"
      ],
      "execution_count": 0,
      "outputs": []
    },
    {
      "cell_type": "code",
      "metadata": {
        "id": "PC7EFwBoR67K",
        "colab_type": "code",
        "outputId": "6b919f52-270d-4b72-c187-8ced6b1fe8a3",
        "colab": {
          "base_uri": "https://localhost:8080/",
          "height": 345
        }
      },
      "source": [
        "cost_list1, cost_list2, parameters = two_layer_NN(X_train, Y_train, X_test, Y_test, learning_rate=0.01, num_iter=2500)\n",
        "plot_learning_curve_NN(cost_list1, cost_list2)\n",
        "print('Training accuracy {} %'.format(100-np.mean(np.abs(Y_train - predict_NN(X_train, parameters)))*100))\n",
        "print('Testing accuracy {} %'.format(100-np.mean(np.abs(Y_test - predict_NN(X_test, parameters)))*100))"
      ],
      "execution_count": 0,
      "outputs": [
        {
          "output_type": "display_data",
          "data": {
            "image/png": "[encoded data removed]",
            "text/plain": [
              "<Figure size 432x288 with 1 Axes>"
            ]
          },
          "metadata": {
            "tags": []
          }
        },
        {
          "output_type": "stream",
          "text": [
            "Training accuracy 100.0 %\n",
            "Testing accuracy 95.16129032258064 %\n"
          ],
          "name": "stdout"
        }
      ]
    },
    {
      "cell_type": "markdown",
      "metadata": {
        "id": "PZWCxG3BC70H",
        "colab_type": "text"
      },
      "source": [
        "## L layer NN\n",
        "\n",
        "*   When number of hidden layers increases, early layers learns more abstract things  \n",
        "like edges and deeper layers tend to learn more complex features like whole object shape, convex functions  \n",
        "and ect. \n",
        "*   To create L layer NN we need to choose bunch of hyperparameters like:  \n",
        "learning_rate, num_iter, number_layers, num_hidden_units, activation_func.  \n",
        "We can google it or we can just try some amount of them and check which ones works best.  \n",
        "*   Now we'll use L=2, num_nodes = 8 for hidden1 and num_nodes = 4 for hidden2,  \n",
        "for hidden layers activations = relu(), for output layert activations=sigmoid()\n",
        "*   We'll use keras framework to implement NN model faster and easer\n",
        "\n",
        "\n"
      ]
    },
    {
      "cell_type": "markdown",
      "metadata": {
        "id": "buPYz1bxQm5g",
        "colab_type": "text"
      },
      "source": [
        "### Data"
      ]
    },
    {
      "cell_type": "code",
      "metadata": {
        "id": "QZD17xH8g88v",
        "colab_type": "code",
        "outputId": "4612b8c3-e568-4397-bb6a-a9da9366d3ab",
        "colab": {
          "base_uri": "https://localhost:8080/",
          "height": 356
        }
      },
      "source": [
        "import numpy as np\n",
        "import pandas as pd\n",
        "import matplotlib.pyplot as plt\n",
        "import seaborn as sns\n",
        "from IPython.display import display\n",
        "\n",
        "working_path = \"/content/drive/My Drive/data_science_basics/deep_learning_dataset/Sign-language-digits-dataset/\"\n",
        "!dir \"/content/drive/My Drive/data_science_basics/deep_learning_dataset/Sign-language-digits-dataset/\"\n",
        "\n",
        "\n",
        "# load data set\n",
        "x_l = np.load(working_path + 'X.npy')\n",
        "Y_l = np.load(working_path + 'Y.npy')\n",
        "img_size = 64\n",
        "plt.subplot(1, 2, 1)\n",
        "plt.imshow(x_l[260].reshape(img_size, img_size))\n",
        "plt.axis('off')\n",
        "plt.subplot(1, 2, 2)\n",
        "plt.imshow(x_l[900].reshape(img_size, img_size))\n",
        "plt.axis('off')\n",
        "\n",
        "# Join a sequence of arrays along an row axis.\n",
        "X = np.concatenate((x_l[204:409], x_l[822:1027] ), axis=0) # from 0 to 204 is zero sign and from 205 to 410 is one sign \n",
        "z = np.zeros(205)\n",
        "o = np.ones(205)\n",
        "y = np.concatenate((z, o), axis=0).reshape(X.shape[0],1)\n",
        "print(\"X shape: \" , X.shape)\n",
        "print(\"y shape: \" , y.shape)\n",
        "\n",
        "X_flatten = X.reshape(X.shape[0], X.shape[1]*X.shape[2])\n",
        "print('X_flatten ', X_flatten.shape)\n",
        "\n",
        "# Then lets create x_train, y_train, x_test, y_test arrays\n",
        "from sklearn.model_selection import train_test_split\n",
        "X_train, X_test, y_train, y_test = train_test_split(X_flatten, y, test_size=0.15, random_state=42)\n",
        "\n",
        "print(\"\")\n",
        "print(\"X train \",X_train.shape)\n",
        "print(\"X test \",X_test.shape)\n",
        "print(\"Y train \",y_train.shape)\n",
        "print(\"Y test \",y_test.shape)"
      ],
      "execution_count": 0,
      "outputs": [
        {
          "output_type": "stream",
          "text": [
            "comp_graph.jpg\tX.npy  Y.npy\n",
            "X shape:  (410, 64, 64)\n",
            "y shape:  (410, 1)\n",
            "X_flatten  (410, 4096)\n",
            "\n",
            "X train  (348, 4096)\n",
            "X test  (62, 4096)\n",
            "Y train  (348, 1)\n",
            "Y test  (62, 1)\n"
          ],
          "name": "stdout"
        },
        {
          "output_type": "display_data",
          "data": {
            "image/png": "[encoded data removed]",
            "text/plain": [
              "<Figure size 432x288 with 2 Axes>"
            ]
          },
          "metadata": {
            "tags": []
          }
        }
      ]
    },
    {
      "cell_type": "markdown",
      "metadata": {
        "id": "fqo6o-bO7ZxQ",
        "colab_type": "text"
      },
      "source": [
        "### Models"
      ]
    },
    {
      "cell_type": "code",
      "metadata": {
        "id": "aJC2bQIGQlPU",
        "colab_type": "code",
        "outputId": "2a9cf89f-cb41-4b65-aef4-071426e689b9",
        "colab": {
          "base_uri": "https://localhost:8080/",
          "height": 34
        }
      },
      "source": [
        "from keras.models import Sequential\n",
        "from keras.layers import Dense\n",
        "from sklearn.model_selection import cross_val_score\n",
        "from keras.wrappers.scikit_learn import KerasClassifier"
      ],
      "execution_count": 0,
      "outputs": [
        {
          "output_type": "stream",
          "text": [
            "Using TensorFlow backend.\n"
          ],
          "name": "stderr"
        }
      ]
    },
    {
      "cell_type": "code",
      "metadata": {
        "id": "qO6zirFKwoJi",
        "colab_type": "code",
        "colab": {}
      },
      "source": [
        "def model_NN():\n",
        "  model = Sequential()\n",
        "  model.add(Dense(units=8, input_dim=X_flatten.shape[1], kernel_initializer='uniform', activation='relu', ))\n",
        "  model.add(Dense(units=4, kernel_initializer='uniform', activation='relu'))\n",
        "  model.add(Dense(units=y.shape[1], kernel_initializer='uniform', activation='sigmoid'))\n",
        "\n",
        "  model.compile(optimizer='adam', loss='binary_crossentropy', metrics=['acc'])\n",
        "  \n",
        "  return model"
      ],
      "execution_count": 0,
      "outputs": []
    },
    {
      "cell_type": "code",
      "metadata": {
        "id": "p3J2qYlmv6Xd",
        "colab_type": "code",
        "colab": {}
      },
      "source": [
        "def classifier_without_cross_val(X_train, y_train, X_test, y_test):\n",
        "  classifier = KerasClassifier(build_fn=model_NN, epochs=100, validation_split=0.1)\n",
        "  classifier.fit(X_train, y_train, verbose=0)\n",
        "  score = classifier.score(X_test, y_test)\n",
        "  print('Score on test data: ', score)\n",
        "\n",
        "def classifier_with_cross_val(X_flatten, y):\n",
        "  classifier_cv = KerasClassifier(build_fn=model_NN, epochs=100, verbose=0)\n",
        "  scores = cross_val_score(estimator=classifier_cv, X=X_flatten, y=y, cv=7, verbose=0)\n",
        "  mean_scores = scores.mean()\n",
        "  std_scores = scores.std()\n",
        "\n",
        "  print('Scores: ', scores)\n",
        "  print('Mean scores: ', mean_scores)\n",
        "  \n",
        "def classifier_NN(X_train, y_train, X_test, y_test):\n",
        "  model = model_NN()\n",
        "  model.fit(X_train, y_train, batch_size=32, epochs=100, validation_split=0.1, verbose=0)\n",
        "  loss, score = model.evaluate(x=X_test, y=y_test, batch_size=32)\n",
        "  \n",
        "  print('Score: ', score)\n",
        "  print('Loss: ', loss)\n"
      ],
      "execution_count": 0,
      "outputs": []
    },
    {
      "cell_type": "markdown",
      "metadata": {
        "id": "Gu4OrLA47dNa",
        "colab_type": "text"
      },
      "source": [
        "### Results"
      ]
    },
    {
      "cell_type": "code",
      "metadata": {
        "id": "PxOH1c3cxPu3",
        "colab_type": "code",
        "outputId": "44f784cd-346b-473e-eba1-2ac857bf48f9",
        "colab": {
          "base_uri": "https://localhost:8080/",
          "height": 51
        }
      },
      "source": [
        "classifier_without_cross_val(X_train, y_train, X_test, y_test)"
      ],
      "execution_count": 0,
      "outputs": [
        {
          "output_type": "stream",
          "text": [
            "62/62 [==============================] - 0s 184us/step\n",
            "Score on test data:  0.90322579491523\n"
          ],
          "name": "stdout"
        }
      ]
    },
    {
      "cell_type": "code",
      "metadata": {
        "id": "cRDBbRrhzTz0",
        "colab_type": "code",
        "outputId": "27f2b9c9-b707-4e83-9e49-f23f18947b46",
        "colab": {
          "base_uri": "https://localhost:8080/",
          "height": 68
        }
      },
      "source": [
        "classifier_with_cross_val(X_flatten, y)"
      ],
      "execution_count": 0,
      "outputs": [
        {
          "output_type": "stream",
          "text": [
            "Scores:  [0.9322034  0.94915255 0.96610169 0.96610169 0.94827585 0.91379309\n",
            " 0.94827586]\n",
            "Mean scores:  0.9462720200306209\n"
          ],
          "name": "stdout"
        }
      ]
    },
    {
      "cell_type": "code",
      "metadata": {
        "id": "M_o7DCoM5i_A",
        "colab_type": "code",
        "outputId": "86d3e0e0-3213-4dd2-fa9f-f8d6f72e9cbb",
        "colab": {
          "base_uri": "https://localhost:8080/",
          "height": 68
        }
      },
      "source": [
        "classifier_NN(X_train, y_train, X_test, y_test)"
      ],
      "execution_count": 0,
      "outputs": [
        {
          "output_type": "stream",
          "text": [
            "62/62 [==============================] - 0s 122us/step\n",
            "Score:  0.9516128897666931\n",
            "Loss:  0.1721644074686112\n"
          ],
          "name": "stdout"
        }
      ]
    }
  ]
}